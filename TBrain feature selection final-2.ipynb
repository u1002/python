{
 "cells": [
  {
   "cell_type": "code",
   "execution_count": 1,
   "metadata": {},
   "outputs": [],
   "source": [
    "import pandas as pd\n",
    "import numpy as np\n",
    "import seaborn as sns\n",
    "from sklearn.preprocessing import LabelEncoder\n",
    "label=LabelEncoder()"
   ]
  },
  {
   "cell_type": "code",
   "execution_count": 2,
   "metadata": {},
   "outputs": [],
   "source": [
    "from sklearn import svm\n",
    "from sklearn.datasets import samples_generator\n",
    "from sklearn.feature_selection import SelectKBest, f_regression\n",
    "from sklearn.pipeline import make_pipeline\n",
    "from sklearn.feature_selection import SelectFromModel\n",
    "from sklearn.linear_model import LassoCV\n",
    "import matplotlib.pyplot as plt"
   ]
  },
  {
   "cell_type": "code",
   "execution_count": 6,
   "metadata": {},
   "outputs": [
    {
     "data": {
      "text/html": [
       "<div>\n",
       "<style scoped>\n",
       "    .dataframe tbody tr th:only-of-type {\n",
       "        vertical-align: middle;\n",
       "    }\n",
       "\n",
       "    .dataframe tbody tr th {\n",
       "        vertical-align: top;\n",
       "    }\n",
       "\n",
       "    .dataframe thead th {\n",
       "        text-align: right;\n",
       "    }\n",
       "</style>\n",
       "<table border=\"1\" class=\"dataframe\">\n",
       "  <thead>\n",
       "    <tr style=\"text-align: right;\">\n",
       "      <th></th>\n",
       "      <th>device_dev_name</th>\n",
       "      <th>device_family_name</th>\n",
       "      <th>device_hashed_mac</th>\n",
       "      <th>device_os_name</th>\n",
       "      <th>device_type_name</th>\n",
       "      <th>device_vendor_name</th>\n",
       "      <th>event_protocol_id</th>\n",
       "      <th>event_flow_outbound_or_inbound</th>\n",
       "      <th>event_role_device_or_router</th>\n",
       "      <th>event_role_server_or_client</th>\n",
       "      <th>event_rule_category</th>\n",
       "      <th>event_rule_id</th>\n",
       "      <th>event_rule_name</th>\n",
       "      <th>event_rule_reference</th>\n",
       "      <th>event_rule_severity</th>\n",
       "      <th>event_self_ipv4</th>\n",
       "      <th>event_time</th>\n",
       "      <th>router_ip</th>\n",
       "    </tr>\n",
       "  </thead>\n",
       "  <tbody>\n",
       "    <tr>\n",
       "      <th>0</th>\n",
       "      <td>Windows</td>\n",
       "      <td>Computer</td>\n",
       "      <td>c589f89e814a5fda2c5ff061b0e9b283db057b1b</td>\n",
       "      <td>Windows</td>\n",
       "      <td>Desktop/Laptop</td>\n",
       "      <td>Microsoft Corp.</td>\n",
       "      <td>6</td>\n",
       "      <td>outbound</td>\n",
       "      <td>device</td>\n",
       "      <td>client</td>\n",
       "      <td>Access Control</td>\n",
       "      <td>1050015</td>\n",
       "      <td>WEB Cross-site Scripting -34</td>\n",
       "      <td>CVE-2011-2133; CVE-2014-4116</td>\n",
       "      <td>4</td>\n",
       "      <td>192.168.2.243</td>\n",
       "      <td>12/21/2016 3:01:29 AM</td>\n",
       "      <td>207.124.221.172</td>\n",
       "    </tr>\n",
       "    <tr>\n",
       "      <th>1</th>\n",
       "      <td>Windows</td>\n",
       "      <td>Computer</td>\n",
       "      <td>c589f89e814a5fda2c5ff061b0e9b283db057b1b</td>\n",
       "      <td>Windows</td>\n",
       "      <td>Desktop/Laptop</td>\n",
       "      <td>Microsoft Corp.</td>\n",
       "      <td>6</td>\n",
       "      <td>outbound</td>\n",
       "      <td>device</td>\n",
       "      <td>client</td>\n",
       "      <td>Access Control</td>\n",
       "      <td>1050015</td>\n",
       "      <td>WEB Cross-site Scripting -34</td>\n",
       "      <td>CVE-2011-2133; CVE-2014-4116</td>\n",
       "      <td>4</td>\n",
       "      <td>192.168.2.243</td>\n",
       "      <td>12/21/2016 3:01:29 AM</td>\n",
       "      <td>207.124.221.172</td>\n",
       "    </tr>\n",
       "    <tr>\n",
       "      <th>2</th>\n",
       "      <td>Windows</td>\n",
       "      <td>Computer</td>\n",
       "      <td>c589f89e814a5fda2c5ff061b0e9b283db057b1b</td>\n",
       "      <td>Windows</td>\n",
       "      <td>Desktop/Laptop</td>\n",
       "      <td>Microsoft Corp.</td>\n",
       "      <td>6</td>\n",
       "      <td>outbound</td>\n",
       "      <td>device</td>\n",
       "      <td>client</td>\n",
       "      <td>Access Control</td>\n",
       "      <td>1050015</td>\n",
       "      <td>WEB Cross-site Scripting -34</td>\n",
       "      <td>CVE-2011-2133; CVE-2014-4116</td>\n",
       "      <td>4</td>\n",
       "      <td>192.168.2.243</td>\n",
       "      <td>12/21/2016 3:01:29 AM</td>\n",
       "      <td>207.124.221.172</td>\n",
       "    </tr>\n",
       "    <tr>\n",
       "      <th>3</th>\n",
       "      <td>NaN</td>\n",
       "      <td>NaN</td>\n",
       "      <td>2d896d888f3b998e911ee97802daab0dd923e7aa</td>\n",
       "      <td>NaN</td>\n",
       "      <td>NaN</td>\n",
       "      <td>NaN</td>\n",
       "      <td>6</td>\n",
       "      <td>outbound</td>\n",
       "      <td>device</td>\n",
       "      <td>server</td>\n",
       "      <td>Web Attack</td>\n",
       "      <td>1050700</td>\n",
       "      <td>WEB Cross-site Scripting (document.cookie) att...</td>\n",
       "      <td>CVE-2012-0007; CVE-2012-0010; CVE-2012-1861; C...</td>\n",
       "      <td>5</td>\n",
       "      <td>200.223.65.226</td>\n",
       "      <td>12/12/2016 7:05:00 AM</td>\n",
       "      <td>201.97.175.59</td>\n",
       "    </tr>\n",
       "    <tr>\n",
       "      <th>4</th>\n",
       "      <td>NaN</td>\n",
       "      <td>NaN</td>\n",
       "      <td>2d896d888f3b998e911ee97802daab0dd923e7aa</td>\n",
       "      <td>NaN</td>\n",
       "      <td>NaN</td>\n",
       "      <td>NaN</td>\n",
       "      <td>6</td>\n",
       "      <td>outbound</td>\n",
       "      <td>device</td>\n",
       "      <td>server</td>\n",
       "      <td>Web Attack</td>\n",
       "      <td>1050700</td>\n",
       "      <td>WEB Cross-site Scripting (document.cookie) att...</td>\n",
       "      <td>CVE-2012-0007; CVE-2012-0010; CVE-2012-1861; C...</td>\n",
       "      <td>5</td>\n",
       "      <td>15.58.51.255</td>\n",
       "      <td>12/12/2016 7:52:24 AM</td>\n",
       "      <td>201.97.175.59</td>\n",
       "    </tr>\n",
       "  </tbody>\n",
       "</table>\n",
       "</div>"
      ],
      "text/plain": [
       "  device_dev_name device_family_name  \\\n",
       "0         Windows           Computer   \n",
       "1         Windows           Computer   \n",
       "2         Windows           Computer   \n",
       "3             NaN                NaN   \n",
       "4             NaN                NaN   \n",
       "\n",
       "                          device_hashed_mac device_os_name device_type_name  \\\n",
       "0  c589f89e814a5fda2c5ff061b0e9b283db057b1b        Windows   Desktop/Laptop   \n",
       "1  c589f89e814a5fda2c5ff061b0e9b283db057b1b        Windows   Desktop/Laptop   \n",
       "2  c589f89e814a5fda2c5ff061b0e9b283db057b1b        Windows   Desktop/Laptop   \n",
       "3  2d896d888f3b998e911ee97802daab0dd923e7aa            NaN              NaN   \n",
       "4  2d896d888f3b998e911ee97802daab0dd923e7aa            NaN              NaN   \n",
       "\n",
       "  device_vendor_name  event_protocol_id event_flow_outbound_or_inbound  \\\n",
       "0    Microsoft Corp.                  6                       outbound   \n",
       "1    Microsoft Corp.                  6                       outbound   \n",
       "2    Microsoft Corp.                  6                       outbound   \n",
       "3                NaN                  6                       outbound   \n",
       "4                NaN                  6                       outbound   \n",
       "\n",
       "  event_role_device_or_router event_role_server_or_client event_rule_category  \\\n",
       "0                      device                      client      Access Control   \n",
       "1                      device                      client      Access Control   \n",
       "2                      device                      client      Access Control   \n",
       "3                      device                      server          Web Attack   \n",
       "4                      device                      server          Web Attack   \n",
       "\n",
       "   event_rule_id                                    event_rule_name  \\\n",
       "0        1050015                       WEB Cross-site Scripting -34   \n",
       "1        1050015                       WEB Cross-site Scripting -34   \n",
       "2        1050015                       WEB Cross-site Scripting -34   \n",
       "3        1050700  WEB Cross-site Scripting (document.cookie) att...   \n",
       "4        1050700  WEB Cross-site Scripting (document.cookie) att...   \n",
       "\n",
       "                                event_rule_reference  event_rule_severity  \\\n",
       "0                       CVE-2011-2133; CVE-2014-4116                    4   \n",
       "1                       CVE-2011-2133; CVE-2014-4116                    4   \n",
       "2                       CVE-2011-2133; CVE-2014-4116                    4   \n",
       "3  CVE-2012-0007; CVE-2012-0010; CVE-2012-1861; C...                    5   \n",
       "4  CVE-2012-0007; CVE-2012-0010; CVE-2012-1861; C...                    5   \n",
       "\n",
       "  event_self_ipv4             event_time        router_ip  \n",
       "0   192.168.2.243  12/21/2016 3:01:29 AM  207.124.221.172  \n",
       "1   192.168.2.243  12/21/2016 3:01:29 AM  207.124.221.172  \n",
       "2   192.168.2.243  12/21/2016 3:01:29 AM  207.124.221.172  \n",
       "3  200.223.65.226  12/12/2016 7:05:00 AM    201.97.175.59  \n",
       "4    15.58.51.255  12/12/2016 7:52:24 AM    201.97.175.59  "
      ]
     },
     "execution_count": 6,
     "metadata": {},
     "output_type": "execute_result"
    }
   ],
   "source": [
    "df=pd.read_csv('/Users/Ruby/Desktop/TBrain.csv')\n",
    "df.head()"
   ]
  },
  {
   "cell_type": "code",
   "execution_count": 9,
   "metadata": {},
   "outputs": [],
   "source": [
    "df=df.dropna()"
   ]
  },
  {
   "cell_type": "code",
   "execution_count": 10,
   "metadata": {},
   "outputs": [
    {
     "data": {
      "text/plain": [
       "device_dev_name                   0\n",
       "device_family_name                0\n",
       "device_hashed_mac                 0\n",
       "device_os_name                    0\n",
       "device_type_name                  0\n",
       "device_vendor_name                0\n",
       "event_protocol_id                 0\n",
       "event_flow_outbound_or_inbound    0\n",
       "event_role_device_or_router       0\n",
       "event_role_server_or_client       0\n",
       "event_rule_category               0\n",
       "event_rule_id                     0\n",
       "event_rule_name                   0\n",
       "event_rule_reference              0\n",
       "event_rule_severity               0\n",
       "event_self_ipv4                   0\n",
       "event_time                        0\n",
       "router_ip                         0\n",
       "dtype: int64"
      ]
     },
     "execution_count": 10,
     "metadata": {},
     "output_type": "execute_result"
    }
   ],
   "source": [
    "df.isnull().sum()"
   ]
  },
  {
   "cell_type": "code",
   "execution_count": 11,
   "metadata": {},
   "outputs": [],
   "source": [
    "df=df.apply(label.fit_transform)"
   ]
  },
  {
   "cell_type": "code",
   "execution_count": 70,
   "metadata": {},
   "outputs": [],
   "source": [
    "y=df.loc[:,['event_rule_name']]"
   ]
  },
  {
   "cell_type": "code",
   "execution_count": 71,
   "metadata": {},
   "outputs": [],
   "source": [
    "x=df.drop(['event_rule_name'],axis=1)"
   ]
  },
  {
   "cell_type": "code",
   "execution_count": 14,
   "metadata": {},
   "outputs": [],
   "source": [
    "x1= x.values.astype(np.float32) # 轉換數據類型\n",
    "y1=y.values.astype(np.float32)   # or int32 "
   ]
  },
  {
   "cell_type": "code",
   "execution_count": 15,
   "metadata": {},
   "outputs": [],
   "source": [
    "from sklearn.model_selection import train_test_split\n",
    "from sklearn.linear_model import Lasso"
   ]
  },
  {
   "cell_type": "code",
   "execution_count": 16,
   "metadata": {},
   "outputs": [],
   "source": [
    "x_train,x_test,y_train,y_test=train_test_split(x,y,test_size=0.3,random_state=0)"
   ]
  },
  {
   "cell_type": "code",
   "execution_count": 17,
   "metadata": {},
   "outputs": [],
   "source": [
    "lass=Lasso(alpha=1)"
   ]
  },
  {
   "cell_type": "code",
   "execution_count": 18,
   "metadata": {},
   "outputs": [
    {
     "data": {
      "text/plain": [
       "Lasso(alpha=1, copy_X=True, fit_intercept=True, max_iter=1000,\n",
       "   normalize=False, positive=False, precompute=False, random_state=None,\n",
       "   selection='cyclic', tol=0.0001, warm_start=False)"
      ]
     },
     "execution_count": 18,
     "metadata": {},
     "output_type": "execute_result"
    }
   ],
   "source": [
    "lass.fit(x_train,y_train)"
   ]
  },
  {
   "cell_type": "code",
   "execution_count": 19,
   "metadata": {},
   "outputs": [
    {
     "data": {
      "text/plain": [
       "array([ 0.00000000e+00, -0.00000000e+00,  4.05946980e-05,  7.11691425e-02,\n",
       "       -9.07250636e-01, -8.25118210e-01, -1.76206901e+01, -1.23861994e+01,\n",
       "        0.00000000e+00,  2.03658710e+01,  7.19884034e-01, -1.93806665e-01,\n",
       "        2.10265273e-01,  3.33298105e+01, -7.02843260e-04, -3.81707857e-06,\n",
       "       -3.95828360e-05])"
      ]
     },
     "execution_count": 19,
     "metadata": {},
     "output_type": "execute_result"
    }
   ],
   "source": [
    "lass.coef_"
   ]
  },
  {
   "cell_type": "code",
   "execution_count": 20,
   "metadata": {},
   "outputs": [],
   "source": [
    "#plt.scatter(x, y, marker='x')\n",
    "#plt.plot(x, predicted,c='r')"
   ]
  },
  {
   "cell_type": "code",
   "execution_count": 21,
   "metadata": {},
   "outputs": [],
   "source": [
    "coef = pd.Series(lass.coef_, index = x_train.columns)"
   ]
  },
  {
   "cell_type": "code",
   "execution_count": 22,
   "metadata": {},
   "outputs": [
    {
     "data": {
      "text/plain": [
       "Text(0.5, 1.0, 'Coefficients in the Lasso Model')"
      ]
     },
     "execution_count": 22,
     "metadata": {},
     "output_type": "execute_result"
    },
    {
     "data": {
      "image/png": "[encoded data removed]",
      "text/plain": [
       "<Figure size 576x720 with 1 Axes>"
      ]
     },
     "metadata": {
      "needs_background": "light"
     },
     "output_type": "display_data"
    }
   ],
   "source": [
    "plt.rcParams['figure.figsize'] = (8.0, 10.0)\n",
    "coef.plot(kind = \"barh\")\n",
    "plt.title(\"Coefficients in the Lasso Model\")   #此圖可以看出特徵的重要程度，藉此刪除不重要的特徵"
   ]
  },
  {
   "cell_type": "code",
   "execution_count": null,
   "metadata": {},
   "outputs": [],
   "source": [
    "#---------finifsh feature selsction "
   ]
  },
  {
   "cell_type": "code",
   "execution_count": 23,
   "metadata": {},
   "outputs": [],
   "source": [
    "from sklearn.tree import DecisionTreeClassifier\n",
    "tree = DecisionTreeClassifier(max_depth=4,random_state=0)#最大深度限制：4"
   ]
  },
  {
   "cell_type": "code",
   "execution_count": 24,
   "metadata": {},
   "outputs": [
    {
     "data": {
      "text/plain": [
       "DecisionTreeClassifier(class_weight=None, criterion='gini', max_depth=4,\n",
       "            max_features=None, max_leaf_nodes=None,\n",
       "            min_impurity_decrease=0.0, min_impurity_split=None,\n",
       "            min_samples_leaf=1, min_samples_split=2,\n",
       "            min_weight_fraction_leaf=0.0, presort=False, random_state=0,\n",
       "            splitter='best')"
      ]
     },
     "execution_count": 24,
     "metadata": {},
     "output_type": "execute_result"
    }
   ],
   "source": [
    "tree.fit(x_train,y_train)"
   ]
  },
  {
   "cell_type": "code",
   "execution_count": 25,
   "metadata": {},
   "outputs": [
    {
     "data": {
      "text/plain": [
       "0.7897737604963363"
      ]
     },
     "execution_count": 25,
     "metadata": {},
     "output_type": "execute_result"
    }
   ],
   "source": [
    "tree.score(x_train,y_train) #no feature select"
   ]
  },
  {
   "cell_type": "code",
   "execution_count": 27,
   "metadata": {},
   "outputs": [
    {
     "data": {
      "text/plain": [
       "Index(['device_dev_name', 'device_family_name', 'device_hashed_mac',\n",
       "       'device_os_name', 'device_type_name', 'device_vendor_name',\n",
       "       'event_protocol_id', 'event_flow_outbound_or_inbound',\n",
       "       'event_role_device_or_router', 'event_role_server_or_client',\n",
       "       'event_rule_category', 'event_rule_id', 'event_rule_name',\n",
       "       'event_rule_reference', 'event_rule_severity', 'event_self_ipv4',\n",
       "       'event_time', 'router_ip'],\n",
       "      dtype='object')"
      ]
     },
     "execution_count": 27,
     "metadata": {},
     "output_type": "execute_result"
    }
   ],
   "source": [
    "df.columns"
   ]
  },
  {
   "cell_type": "code",
   "execution_count": 28,
   "metadata": {},
   "outputs": [
    {
     "data": {
      "text/plain": [
       "Index(['event_rule_name'], dtype='object')"
      ]
     },
     "execution_count": 28,
     "metadata": {},
     "output_type": "execute_result"
    }
   ],
   "source": [
    "y.columns"
   ]
  },
  {
   "cell_type": "code",
   "execution_count": null,
   "metadata": {},
   "outputs": [],
   "source": [
    "#tree1=DecisionTreeClassifier(criterion='e')"
   ]
  },
  {
   "cell_type": "code",
   "execution_count": 72,
   "metadata": {},
   "outputs": [],
   "source": [
    "x_after_selsct=df.drop(['event_rule_name','router_ip','event_time','event_self_ipv4','event_role_device_or_router','device_family_name', 'device_hashed_mac','device_dev_name'],axis=1)"
   ]
  },
  {
   "cell_type": "code",
   "execution_count": 48,
   "metadata": {},
   "outputs": [],
   "source": [
    "X_test,X_train,Y_test,Y_train=train_test_split(x_after_selsct,y,test_size=0.3,random_state=0)"
   ]
  },
  {
   "cell_type": "code",
   "execution_count": 49,
   "metadata": {},
   "outputs": [
    {
     "data": {
      "text/plain": [
       "DecisionTreeClassifier(class_weight=None, criterion='gini', max_depth=4,\n",
       "            max_features=None, max_leaf_nodes=None,\n",
       "            min_impurity_decrease=0.0, min_impurity_split=None,\n",
       "            min_samples_leaf=1, min_samples_split=2,\n",
       "            min_weight_fraction_leaf=0.0, presort=False, random_state=0,\n",
       "            splitter='best')"
      ]
     },
     "execution_count": 49,
     "metadata": {},
     "output_type": "execute_result"
    }
   ],
   "source": [
    "tree.fit(X_train,Y_train)"
   ]
  },
  {
   "cell_type": "code",
   "execution_count": 50,
   "metadata": {},
   "outputs": [
    {
     "data": {
      "text/plain": [
       "0.7897915886684138"
      ]
     },
     "execution_count": 50,
     "metadata": {},
     "output_type": "execute_result"
    }
   ],
   "source": [
    "tree.score(X_train,Y_train)# 使用決策術預測結果，正確率為0.7"
   ]
  }
 ],
 "metadata": {
  "kernelspec": {
   "display_name": "Python 3",
   "language": "python",
   "name": "python3"
  },
  "language_info": {
   "codemirror_mode": {
    "name": "ipython",
    "version": 3
   },
   "file_extension": ".py",
   "mimetype": "text/x-python",
   "name": "python",
   "nbconvert_exporter": "python",
   "pygments_lexer": "ipython3",
   "version": "3.7.4"
  }
 },
 "nbformat": 4,
 "nbformat_minor": 2
}
