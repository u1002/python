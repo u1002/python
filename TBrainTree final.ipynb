{
 "cells": [
  {
   "cell_type": "code",
   "execution_count": 1,
   "metadata": {},
   "outputs": [],
   "source": [
    "import pandas as pd\n",
    "import numpy as np\n",
    "import seaborn as sns\n",
    "from sklearn.preprocessing import LabelEncoder\n",
    "label=LabelEncoder()"
   ]
  },
  {
   "cell_type": "code",
   "execution_count": 2,
   "metadata": {},
   "outputs": [
    {
     "data": {
      "text/html": [
       "<div>\n",
       "<style scoped>\n",
       "    .dataframe tbody tr th:only-of-type {\n",
       "        vertical-align: middle;\n",
       "    }\n",
       "\n",
       "    .dataframe tbody tr th {\n",
       "        vertical-align: top;\n",
       "    }\n",
       "\n",
       "    .dataframe thead th {\n",
       "        text-align: right;\n",
       "    }\n",
       "</style>\n",
       "<table border=\"1\" class=\"dataframe\">\n",
       "  <thead>\n",
       "    <tr style=\"text-align: right;\">\n",
       "      <th></th>\n",
       "      <th>device_dev_name</th>\n",
       "      <th>device_family_name</th>\n",
       "      <th>device_hashed_mac</th>\n",
       "      <th>device_os_name</th>\n",
       "      <th>device_type_name</th>\n",
       "      <th>device_vendor_name</th>\n",
       "      <th>event_protocol_id</th>\n",
       "      <th>event_flow_outbound_or_inbound</th>\n",
       "      <th>event_role_device_or_router</th>\n",
       "      <th>event_role_server_or_client</th>\n",
       "      <th>event_rule_category</th>\n",
       "      <th>event_rule_id</th>\n",
       "      <th>event_rule_name</th>\n",
       "      <th>event_rule_reference</th>\n",
       "      <th>event_rule_severity</th>\n",
       "      <th>event_self_ipv4</th>\n",
       "      <th>event_time</th>\n",
       "      <th>router_ip</th>\n",
       "    </tr>\n",
       "  </thead>\n",
       "  <tbody>\n",
       "    <tr>\n",
       "      <th>0</th>\n",
       "      <td>Windows</td>\n",
       "      <td>Computer</td>\n",
       "      <td>c589f89e814a5fda2c5ff061b0e9b283db057b1b</td>\n",
       "      <td>Windows</td>\n",
       "      <td>Desktop/Laptop</td>\n",
       "      <td>Microsoft Corp.</td>\n",
       "      <td>6</td>\n",
       "      <td>outbound</td>\n",
       "      <td>device</td>\n",
       "      <td>client</td>\n",
       "      <td>Access Control</td>\n",
       "      <td>1050015</td>\n",
       "      <td>WEB Cross-site Scripting -34</td>\n",
       "      <td>CVE-2011-2133; CVE-2014-4116</td>\n",
       "      <td>4</td>\n",
       "      <td>192.168.2.243</td>\n",
       "      <td>12/21/2016 3:01:29 AM</td>\n",
       "      <td>207.124.221.172</td>\n",
       "    </tr>\n",
       "    <tr>\n",
       "      <th>1</th>\n",
       "      <td>Windows</td>\n",
       "      <td>Computer</td>\n",
       "      <td>c589f89e814a5fda2c5ff061b0e9b283db057b1b</td>\n",
       "      <td>Windows</td>\n",
       "      <td>Desktop/Laptop</td>\n",
       "      <td>Microsoft Corp.</td>\n",
       "      <td>6</td>\n",
       "      <td>outbound</td>\n",
       "      <td>device</td>\n",
       "      <td>client</td>\n",
       "      <td>Access Control</td>\n",
       "      <td>1050015</td>\n",
       "      <td>WEB Cross-site Scripting -34</td>\n",
       "      <td>CVE-2011-2133; CVE-2014-4116</td>\n",
       "      <td>4</td>\n",
       "      <td>192.168.2.243</td>\n",
       "      <td>12/21/2016 3:01:29 AM</td>\n",
       "      <td>207.124.221.172</td>\n",
       "    </tr>\n",
       "    <tr>\n",
       "      <th>2</th>\n",
       "      <td>Windows</td>\n",
       "      <td>Computer</td>\n",
       "      <td>c589f89e814a5fda2c5ff061b0e9b283db057b1b</td>\n",
       "      <td>Windows</td>\n",
       "      <td>Desktop/Laptop</td>\n",
       "      <td>Microsoft Corp.</td>\n",
       "      <td>6</td>\n",
       "      <td>outbound</td>\n",
       "      <td>device</td>\n",
       "      <td>client</td>\n",
       "      <td>Access Control</td>\n",
       "      <td>1050015</td>\n",
       "      <td>WEB Cross-site Scripting -34</td>\n",
       "      <td>CVE-2011-2133; CVE-2014-4116</td>\n",
       "      <td>4</td>\n",
       "      <td>192.168.2.243</td>\n",
       "      <td>12/21/2016 3:01:29 AM</td>\n",
       "      <td>207.124.221.172</td>\n",
       "    </tr>\n",
       "    <tr>\n",
       "      <th>3</th>\n",
       "      <td>NaN</td>\n",
       "      <td>NaN</td>\n",
       "      <td>2d896d888f3b998e911ee97802daab0dd923e7aa</td>\n",
       "      <td>NaN</td>\n",
       "      <td>NaN</td>\n",
       "      <td>NaN</td>\n",
       "      <td>6</td>\n",
       "      <td>outbound</td>\n",
       "      <td>device</td>\n",
       "      <td>server</td>\n",
       "      <td>Web Attack</td>\n",
       "      <td>1050700</td>\n",
       "      <td>WEB Cross-site Scripting (document.cookie) att...</td>\n",
       "      <td>CVE-2012-0007; CVE-2012-0010; CVE-2012-1861; C...</td>\n",
       "      <td>5</td>\n",
       "      <td>200.223.65.226</td>\n",
       "      <td>12/12/2016 7:05:00 AM</td>\n",
       "      <td>201.97.175.59</td>\n",
       "    </tr>\n",
       "    <tr>\n",
       "      <th>4</th>\n",
       "      <td>NaN</td>\n",
       "      <td>NaN</td>\n",
       "      <td>2d896d888f3b998e911ee97802daab0dd923e7aa</td>\n",
       "      <td>NaN</td>\n",
       "      <td>NaN</td>\n",
       "      <td>NaN</td>\n",
       "      <td>6</td>\n",
       "      <td>outbound</td>\n",
       "      <td>device</td>\n",
       "      <td>server</td>\n",
       "      <td>Web Attack</td>\n",
       "      <td>1050700</td>\n",
       "      <td>WEB Cross-site Scripting (document.cookie) att...</td>\n",
       "      <td>CVE-2012-0007; CVE-2012-0010; CVE-2012-1861; C...</td>\n",
       "      <td>5</td>\n",
       "      <td>15.58.51.255</td>\n",
       "      <td>12/12/2016 7:52:24 AM</td>\n",
       "      <td>201.97.175.59</td>\n",
       "    </tr>\n",
       "  </tbody>\n",
       "</table>\n",
       "</div>"
      ],
      "text/plain": [
       "  device_dev_name device_family_name  \\\n",
       "0         Windows           Computer   \n",
       "1         Windows           Computer   \n",
       "2         Windows           Computer   \n",
       "3             NaN                NaN   \n",
       "4             NaN                NaN   \n",
       "\n",
       "                          device_hashed_mac device_os_name device_type_name  \\\n",
       "0  c589f89e814a5fda2c5ff061b0e9b283db057b1b        Windows   Desktop/Laptop   \n",
       "1  c589f89e814a5fda2c5ff061b0e9b283db057b1b        Windows   Desktop/Laptop   \n",
       "2  c589f89e814a5fda2c5ff061b0e9b283db057b1b        Windows   Desktop/Laptop   \n",
       "3  2d896d888f3b998e911ee97802daab0dd923e7aa            NaN              NaN   \n",
       "4  2d896d888f3b998e911ee97802daab0dd923e7aa            NaN              NaN   \n",
       "\n",
       "  device_vendor_name  event_protocol_id event_flow_outbound_or_inbound  \\\n",
       "0    Microsoft Corp.                  6                       outbound   \n",
       "1    Microsoft Corp.                  6                       outbound   \n",
       "2    Microsoft Corp.                  6                       outbound   \n",
       "3                NaN                  6                       outbound   \n",
       "4                NaN                  6                       outbound   \n",
       "\n",
       "  event_role_device_or_router event_role_server_or_client event_rule_category  \\\n",
       "0                      device                      client      Access Control   \n",
       "1                      device                      client      Access Control   \n",
       "2                      device                      client      Access Control   \n",
       "3                      device                      server          Web Attack   \n",
       "4                      device                      server          Web Attack   \n",
       "\n",
       "   event_rule_id                                    event_rule_name  \\\n",
       "0        1050015                       WEB Cross-site Scripting -34   \n",
       "1        1050015                       WEB Cross-site Scripting -34   \n",
       "2        1050015                       WEB Cross-site Scripting -34   \n",
       "3        1050700  WEB Cross-site Scripting (document.cookie) att...   \n",
       "4        1050700  WEB Cross-site Scripting (document.cookie) att...   \n",
       "\n",
       "                                event_rule_reference  event_rule_severity  \\\n",
       "0                       CVE-2011-2133; CVE-2014-4116                    4   \n",
       "1                       CVE-2011-2133; CVE-2014-4116                    4   \n",
       "2                       CVE-2011-2133; CVE-2014-4116                    4   \n",
       "3  CVE-2012-0007; CVE-2012-0010; CVE-2012-1861; C...                    5   \n",
       "4  CVE-2012-0007; CVE-2012-0010; CVE-2012-1861; C...                    5   \n",
       "\n",
       "  event_self_ipv4             event_time        router_ip  \n",
       "0   192.168.2.243  12/21/2016 3:01:29 AM  207.124.221.172  \n",
       "1   192.168.2.243  12/21/2016 3:01:29 AM  207.124.221.172  \n",
       "2   192.168.2.243  12/21/2016 3:01:29 AM  207.124.221.172  \n",
       "3  200.223.65.226  12/12/2016 7:05:00 AM    201.97.175.59  \n",
       "4    15.58.51.255  12/12/2016 7:52:24 AM    201.97.175.59  "
      ]
     },
     "execution_count": 2,
     "metadata": {},
     "output_type": "execute_result"
    }
   ],
   "source": [
    "df=pd.read_csv('/Users/Ruby/Desktop/TBrain.csv')\n",
    "df.head()"
   ]
  },
  {
   "cell_type": "code",
   "execution_count": 3,
   "metadata": {},
   "outputs": [],
   "source": [
    "#To drop any rows that have missing data.\n",
    "df=df.dropna(how='any')"
   ]
  },
  {
   "cell_type": "code",
   "execution_count": 4,
   "metadata": {},
   "outputs": [
    {
     "data": {
      "text/plain": [
       "device_dev_name                   0\n",
       "device_family_name                0\n",
       "device_hashed_mac                 0\n",
       "device_os_name                    0\n",
       "device_type_name                  0\n",
       "device_vendor_name                0\n",
       "event_protocol_id                 0\n",
       "event_flow_outbound_or_inbound    0\n",
       "event_role_device_or_router       0\n",
       "event_role_server_or_client       0\n",
       "event_rule_category               0\n",
       "event_rule_id                     0\n",
       "event_rule_name                   0\n",
       "event_rule_reference              0\n",
       "event_rule_severity               0\n",
       "event_self_ipv4                   0\n",
       "event_time                        0\n",
       "router_ip                         0\n",
       "dtype: int64"
      ]
     },
     "execution_count": 4,
     "metadata": {},
     "output_type": "execute_result"
    }
   ],
   "source": [
    "#check isnull\n",
    "df.isnull().sum() #全為0, ok"
   ]
  },
  {
   "cell_type": "code",
   "execution_count": 5,
   "metadata": {},
   "outputs": [],
   "source": [
    "df=pd.DataFrame(df,dtype=np.str)#先變成str"
   ]
  },
  {
   "cell_type": "code",
   "execution_count": 6,
   "metadata": {},
   "outputs": [],
   "source": [
    "df=df.apply(label.fit_transform)"
   ]
  },
  {
   "cell_type": "code",
   "execution_count": 7,
   "metadata": {},
   "outputs": [],
   "source": [
    "x=df.drop(['event_rule_name','router_ip','event_time','event_self_ipv4','event_role_device_or_router','device_family_name', 'device_hashed_mac','device_dev_name'],axis=1)"
   ]
  },
  {
   "cell_type": "code",
   "execution_count": 8,
   "metadata": {},
   "outputs": [],
   "source": [
    "y=df.loc[:,['event_rule_name']]"
   ]
  },
  {
   "cell_type": "code",
   "execution_count": 9,
   "metadata": {},
   "outputs": [],
   "source": [
    "import xgboost \n",
    "from xgboost import XGBClassifier\n",
    "xgb=XGBClassifier()"
   ]
  },
  {
   "cell_type": "code",
   "execution_count": 10,
   "metadata": {},
   "outputs": [],
   "source": [
    "from sklearn.model_selection import train_test_split"
   ]
  },
  {
   "cell_type": "code",
   "execution_count": 11,
   "metadata": {},
   "outputs": [],
   "source": [
    "X_trainval,X_test,y_trainval,y_test=train_test_split(\n",
    "x,y,random_state=0)"
   ]
  },
  {
   "cell_type": "code",
   "execution_count": 12,
   "metadata": {},
   "outputs": [],
   "source": [
    "X_train,X_valid,y_train,y_valid=train_test_split(\n",
    "X_trainval,y_trainval,random_state=1)"
   ]
  },
  {
   "cell_type": "code",
   "execution_count": 13,
   "metadata": {},
   "outputs": [
    {
     "name": "stdout",
     "output_type": "stream",
     "text": [
      "Size of train dataset 225365\n",
      "Size of valid dataset 75122\n",
      "Size of test dataset 100163\n"
     ]
    }
   ],
   "source": [
    "print(\"Size of train dataset\",X_train.shape[0])\n",
    "print(\"Size of valid dataset\",X_valid.shape[0])\n",
    "print(\"Size of test dataset\",X_test.shape[0])"
   ]
  },
  {
   "cell_type": "code",
   "execution_count": 14,
   "metadata": {},
   "outputs": [],
   "source": [
    "#x_train, x_valid, y_train, y_valid = train_test_split(x, y) "
   ]
  },
  {
   "cell_type": "code",
   "execution_count": 15,
   "metadata": {},
   "outputs": [
    {
     "name": "stdout",
     "output_type": "stream",
     "text": [
      "(75122, 10)\n",
      "(225365, 1)\n",
      "(75122, 1)\n"
     ]
    }
   ],
   "source": [
    "#print(x_train.shape)  \n",
    "print(X_valid.shape)  \n",
    "print(y_train.shape)  \n",
    "print(y_valid.shape)"
   ]
  },
  {
   "cell_type": "code",
   "execution_count": 16,
   "metadata": {},
   "outputs": [],
   "source": [
    "from sklearn.metrics import roc_auc_score\n",
    "from sklearn.model_selection import GridSearchCV\n",
    "from sklearn.tree import DecisionTreeClassifier"
   ]
  },
  {
   "cell_type": "code",
   "execution_count": 18,
   "metadata": {},
   "outputs": [],
   "source": [
    "param_grid = {'max_depth': np.arange(3, 10)}\n",
    "gs = GridSearchCV(DecisionTreeClassifier(), param_grid=param_grid)\n",
    "\n"
   ]
  },
  {
   "cell_type": "code",
   "execution_count": 19,
   "metadata": {},
   "outputs": [
    {
     "name": "stderr",
     "output_type": "stream",
     "text": [
      "/Users/Ruby/anaconda3/envs/tensorflow/lib/python3.7/site-packages/sklearn/model_selection/_split.py:1978: FutureWarning: The default value of cv will change from 3 to 5 in version 0.22. Specify it explicitly to silence this warning.\n",
      "  warnings.warn(CV_WARNING, FutureWarning)\n",
      "/Users/Ruby/anaconda3/envs/tensorflow/lib/python3.7/site-packages/sklearn/model_selection/_split.py:657: Warning: The least populated class in y has only 1 members, which is too few. The minimum number of members in any class cannot be less than n_splits=3.\n",
      "  % (min_groups, self.n_splits)), Warning)\n"
     ]
    }
   ],
   "source": [
    "gs = gs.fit(X_valid, y_valid)"
   ]
  },
  {
   "cell_type": "code",
   "execution_count": 20,
   "metadata": {},
   "outputs": [
    {
     "name": "stdout",
     "output_type": "stream",
     "text": [
      "0.970554564574958\n"
     ]
    }
   ],
   "source": [
    "print(gs.best_score_)"
   ]
  },
  {
   "cell_type": "code",
   "execution_count": 21,
   "metadata": {},
   "outputs": [
    {
     "name": "stdout",
     "output_type": "stream",
     "text": [
      "{'max_depth': 9}\n"
     ]
    }
   ],
   "source": [
    "print(gs.best_params_)"
   ]
  },
  {
   "cell_type": "code",
   "execution_count": null,
   "metadata": {},
   "outputs": [],
   "source": []
  },
  {
   "cell_type": "code",
   "execution_count": null,
   "metadata": {},
   "outputs": [],
   "source": []
  },
  {
   "cell_type": "code",
   "execution_count": null,
   "metadata": {},
   "outputs": [],
   "source": []
  }
 ],
 "metadata": {
  "kernelspec": {
   "display_name": "Python 3",
   "language": "python",
   "name": "python3"
  },
  "language_info": {
   "codemirror_mode": {
    "name": "ipython",
    "version": 3
   },
   "file_extension": ".py",
   "mimetype": "text/x-python",
   "name": "python",
   "nbconvert_exporter": "python",
   "pygments_lexer": "ipython3",
   "version": "3.7.4"
  }
 },
 "nbformat": 4,
 "nbformat_minor": 2
}
